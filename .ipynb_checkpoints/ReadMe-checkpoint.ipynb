{
 "cells": [
  {
   "cell_type": "markdown",
   "id": "b15c49b7",
   "metadata": {},
   "source": [
    "# Erläuterung Paper"
   ]
  },
  {
   "cell_type": "markdown",
   "id": "eb5d5ebb",
   "metadata": {},
   "source": [
    " ## Prämisse des Papers"
   ]
  },
  {
   "cell_type": "markdown",
   "id": "2aa2f097",
   "metadata": {},
   "source": []
  },
  {
   "cell_type": "markdown",
   "id": "f6b83076",
   "metadata": {},
   "source": [
    "## Aufbau des Papers und des Modells"
   ]
  },
  {
   "cell_type": "markdown",
   "id": "bcf76f98",
   "metadata": {},
   "source": []
  },
  {
   "cell_type": "markdown",
   "id": "25d4102b",
   "metadata": {},
   "source": [
    "## Inspiration für das durchgeführte Projekt"
   ]
  },
  {
   "cell_type": "markdown",
   "id": "3994691d",
   "metadata": {},
   "source": []
  },
  {
   "cell_type": "markdown",
   "id": "be0d0d89",
   "metadata": {},
   "source": [
    "# Grundlagenwissen Radar"
   ]
  },
  {
   "cell_type": "markdown",
   "id": "758b81ea",
   "metadata": {},
   "source": []
  },
  {
   "cell_type": "markdown",
   "id": "acae30f5",
   "metadata": {},
   "source": [
    "## Radarpunktwolken"
   ]
  },
  {
   "cell_type": "markdown",
   "id": "cf18481d",
   "metadata": {},
   "source": []
  },
  {
   "cell_type": "markdown",
   "id": "5e694612",
   "metadata": {},
   "source": [
    "# Zugrundeliegende Daten"
   ]
  },
  {
   "cell_type": "markdown",
   "id": "18524ac8",
   "metadata": {},
   "source": []
  },
  {
   "cell_type": "markdown",
   "id": "2c8c75c9",
   "metadata": {},
   "source": [
    "## Datensatz"
   ]
  },
  {
   "cell_type": "markdown",
   "id": "c235089b",
   "metadata": {},
   "source": []
  },
  {
   "cell_type": "markdown",
   "id": "ac103e8f",
   "metadata": {},
   "source": [
    "## Label"
   ]
  },
  {
   "cell_type": "markdown",
   "id": "b683c34f",
   "metadata": {},
   "source": []
  },
  {
   "cell_type": "markdown",
   "id": "a6505b63",
   "metadata": {},
   "source": [
    "# Modell"
   ]
  },
  {
   "cell_type": "markdown",
   "id": "2450ee3a",
   "metadata": {},
   "source": []
  },
  {
   "cell_type": "markdown",
   "id": "cf2c0fc2",
   "metadata": {},
   "source": [
    "### Anmerkungen\n",
    "Der Code zu diesem Projekt ist unter folgenem Link auf unserem GitHub Repository zu finden: https://github.com/zaph01/ImageRadar\n"
   ]
  }
 ],
 "metadata": {
  "kernelspec": {
   "display_name": "Python 3 (ipykernel)",
   "language": "python",
   "name": "python3"
  },
  "language_info": {
   "codemirror_mode": {
    "name": "ipython",
    "version": 3
   },
   "file_extension": ".py",
   "mimetype": "text/x-python",
   "name": "python",
   "nbconvert_exporter": "python",
   "pygments_lexer": "ipython3",
   "version": "3.11.5"
  }
 },
 "nbformat": 4,
 "nbformat_minor": 5
}
